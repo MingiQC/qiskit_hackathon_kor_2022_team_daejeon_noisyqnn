{
  "nbformat": 4,
  "nbformat_minor": 0,
  "metadata": {
    "colab": {
      "name": "qnn_test1_noisymodel",
      "provenance": [],
      "collapsed_sections": [],
      "include_colab_link": true
    },
    "kernelspec": {
      "name": "python3",
      "display_name": "Python 3"
    },
    "language_info": {
      "name": "python"
    },
    "widgets": {
      "application/vnd.jupyter.widget-state+json": {
        "34055f65f590404aad8641150571eb96": {
          "model_module": "@jupyter-widgets/controls",
          "model_name": "HBoxModel",
          "model_module_version": "1.5.0",
          "state": {
            "_view_name": "HBoxView",
            "_dom_classes": [],
            "_model_name": "HBoxModel",
            "_view_module": "@jupyter-widgets/controls",
            "_model_module_version": "1.5.0",
            "_view_count": null,
            "_view_module_version": "1.5.0",
            "box_style": "",
            "layout": "IPY_MODEL_0b6555d84b7b4f6bb421b91ce8602fbd",
            "_model_module": "@jupyter-widgets/controls",
            "children": [
              "IPY_MODEL_015653858f5640b492a9a73580de145d",
              "IPY_MODEL_fbbc9584a4df4fdabe7842ecde452a1b",
              "IPY_MODEL_37621a69aa874eafbae68150a7299b27"
            ]
          }
        },
        "0b6555d84b7b4f6bb421b91ce8602fbd": {
          "model_module": "@jupyter-widgets/base",
          "model_name": "LayoutModel",
          "model_module_version": "1.2.0",
          "state": {
            "_view_name": "LayoutView",
            "grid_template_rows": null,
            "right": null,
            "justify_content": null,
            "_view_module": "@jupyter-widgets/base",
            "overflow": null,
            "_model_module_version": "1.2.0",
            "_view_count": null,
            "flex_flow": null,
            "width": null,
            "min_width": null,
            "border": null,
            "align_items": null,
            "bottom": null,
            "_model_module": "@jupyter-widgets/base",
            "top": null,
            "grid_column": null,
            "overflow_y": null,
            "overflow_x": null,
            "grid_auto_flow": null,
            "grid_area": null,
            "grid_template_columns": null,
            "flex": null,
            "_model_name": "LayoutModel",
            "justify_items": null,
            "grid_row": null,
            "max_height": null,
            "align_content": null,
            "visibility": null,
            "align_self": null,
            "height": null,
            "min_height": null,
            "padding": null,
            "grid_auto_rows": null,
            "grid_gap": null,
            "max_width": null,
            "order": null,
            "_view_module_version": "1.2.0",
            "grid_template_areas": null,
            "object_position": null,
            "object_fit": null,
            "grid_auto_columns": null,
            "margin": null,
            "display": null,
            "left": null
          }
        },
        "015653858f5640b492a9a73580de145d": {
          "model_module": "@jupyter-widgets/controls",
          "model_name": "HTMLModel",
          "model_module_version": "1.5.0",
          "state": {
            "_view_name": "HTMLView",
            "style": "IPY_MODEL_890c8f5156a54760b15c88e87e116a1a",
            "_dom_classes": [],
            "description": "",
            "_model_name": "HTMLModel",
            "placeholder": "​",
            "_view_module": "@jupyter-widgets/controls",
            "_model_module_version": "1.5.0",
            "value": "",
            "_view_count": null,
            "_view_module_version": "1.5.0",
            "description_tooltip": null,
            "_model_module": "@jupyter-widgets/controls",
            "layout": "IPY_MODEL_31f0ceac9530434286703415c7c8015d"
          }
        },
        "fbbc9584a4df4fdabe7842ecde452a1b": {
          "model_module": "@jupyter-widgets/controls",
          "model_name": "FloatProgressModel",
          "model_module_version": "1.5.0",
          "state": {
            "_view_name": "ProgressView",
            "style": "IPY_MODEL_57b326755ad2497c9771e0452e5ddfd2",
            "_dom_classes": [],
            "description": "",
            "_model_name": "FloatProgressModel",
            "bar_style": "success",
            "max": 26421880,
            "_view_module": "@jupyter-widgets/controls",
            "_model_module_version": "1.5.0",
            "value": 26421880,
            "_view_count": null,
            "_view_module_version": "1.5.0",
            "orientation": "horizontal",
            "min": 0,
            "description_tooltip": null,
            "_model_module": "@jupyter-widgets/controls",
            "layout": "IPY_MODEL_021fc7456aa24e87b1ab9a302f4afcd2"
          }
        },
        "37621a69aa874eafbae68150a7299b27": {
          "model_module": "@jupyter-widgets/controls",
          "model_name": "HTMLModel",
          "model_module_version": "1.5.0",
          "state": {
            "_view_name": "HTMLView",
            "style": "IPY_MODEL_3e06b7b5afc14454a04cc71207667d73",
            "_dom_classes": [],
            "description": "",
            "_model_name": "HTMLModel",
            "placeholder": "​",
            "_view_module": "@jupyter-widgets/controls",
            "_model_module_version": "1.5.0",
            "value": " 26422272/? [00:01&lt;00:00, 27543434.33it/s]",
            "_view_count": null,
            "_view_module_version": "1.5.0",
            "description_tooltip": null,
            "_model_module": "@jupyter-widgets/controls",
            "layout": "IPY_MODEL_fac9d55b52084c87958d0956868cd7a9"
          }
        },
        "890c8f5156a54760b15c88e87e116a1a": {
          "model_module": "@jupyter-widgets/controls",
          "model_name": "DescriptionStyleModel",
          "model_module_version": "1.5.0",
          "state": {
            "_view_name": "StyleView",
            "_model_name": "DescriptionStyleModel",
            "description_width": "",
            "_view_module": "@jupyter-widgets/base",
            "_model_module_version": "1.5.0",
            "_view_count": null,
            "_view_module_version": "1.2.0",
            "_model_module": "@jupyter-widgets/controls"
          }
        },
        "31f0ceac9530434286703415c7c8015d": {
          "model_module": "@jupyter-widgets/base",
          "model_name": "LayoutModel",
          "model_module_version": "1.2.0",
          "state": {
            "_view_name": "LayoutView",
            "grid_template_rows": null,
            "right": null,
            "justify_content": null,
            "_view_module": "@jupyter-widgets/base",
            "overflow": null,
            "_model_module_version": "1.2.0",
            "_view_count": null,
            "flex_flow": null,
            "width": null,
            "min_width": null,
            "border": null,
            "align_items": null,
            "bottom": null,
            "_model_module": "@jupyter-widgets/base",
            "top": null,
            "grid_column": null,
            "overflow_y": null,
            "overflow_x": null,
            "grid_auto_flow": null,
            "grid_area": null,
            "grid_template_columns": null,
            "flex": null,
            "_model_name": "LayoutModel",
            "justify_items": null,
            "grid_row": null,
            "max_height": null,
            "align_content": null,
            "visibility": null,
            "align_self": null,
            "height": null,
            "min_height": null,
            "padding": null,
            "grid_auto_rows": null,
            "grid_gap": null,
            "max_width": null,
            "order": null,
            "_view_module_version": "1.2.0",
            "grid_template_areas": null,
            "object_position": null,
            "object_fit": null,
            "grid_auto_columns": null,
            "margin": null,
            "display": null,
            "left": null
          }
        },
        "57b326755ad2497c9771e0452e5ddfd2": {
          "model_module": "@jupyter-widgets/controls",
          "model_name": "ProgressStyleModel",
          "model_module_version": "1.5.0",
          "state": {
            "_view_name": "StyleView",
            "_model_name": "ProgressStyleModel",
            "description_width": "",
            "_view_module": "@jupyter-widgets/base",
            "_model_module_version": "1.5.0",
            "_view_count": null,
            "_view_module_version": "1.2.0",
            "bar_color": null,
            "_model_module": "@jupyter-widgets/controls"
          }
        },
        "021fc7456aa24e87b1ab9a302f4afcd2": {
          "model_module": "@jupyter-widgets/base",
          "model_name": "LayoutModel",
          "model_module_version": "1.2.0",
          "state": {
            "_view_name": "LayoutView",
            "grid_template_rows": null,
            "right": null,
            "justify_content": null,
            "_view_module": "@jupyter-widgets/base",
            "overflow": null,
            "_model_module_version": "1.2.0",
            "_view_count": null,
            "flex_flow": null,
            "width": null,
            "min_width": null,
            "border": null,
            "align_items": null,
            "bottom": null,
            "_model_module": "@jupyter-widgets/base",
            "top": null,
            "grid_column": null,
            "overflow_y": null,
            "overflow_x": null,
            "grid_auto_flow": null,
            "grid_area": null,
            "grid_template_columns": null,
            "flex": null,
            "_model_name": "LayoutModel",
            "justify_items": null,
            "grid_row": null,
            "max_height": null,
            "align_content": null,
            "visibility": null,
            "align_self": null,
            "height": null,
            "min_height": null,
            "padding": null,
            "grid_auto_rows": null,
            "grid_gap": null,
            "max_width": null,
            "order": null,
            "_view_module_version": "1.2.0",
            "grid_template_areas": null,
            "object_position": null,
            "object_fit": null,
            "grid_auto_columns": null,
            "margin": null,
            "display": null,
            "left": null
          }
        },
        "3e06b7b5afc14454a04cc71207667d73": {
          "model_module": "@jupyter-widgets/controls",
          "model_name": "DescriptionStyleModel",
          "model_module_version": "1.5.0",
          "state": {
            "_view_name": "StyleView",
            "_model_name": "DescriptionStyleModel",
            "description_width": "",
            "_view_module": "@jupyter-widgets/base",
            "_model_module_version": "1.5.0",
            "_view_count": null,
            "_view_module_version": "1.2.0",
            "_model_module": "@jupyter-widgets/controls"
          }
        },
        "fac9d55b52084c87958d0956868cd7a9": {
          "model_module": "@jupyter-widgets/base",
          "model_name": "LayoutModel",
          "model_module_version": "1.2.0",
          "state": {
            "_view_name": "LayoutView",
            "grid_template_rows": null,
            "right": null,
            "justify_content": null,
            "_view_module": "@jupyter-widgets/base",
            "overflow": null,
            "_model_module_version": "1.2.0",
            "_view_count": null,
            "flex_flow": null,
            "width": null,
            "min_width": null,
            "border": null,
            "align_items": null,
            "bottom": null,
            "_model_module": "@jupyter-widgets/base",
            "top": null,
            "grid_column": null,
            "overflow_y": null,
            "overflow_x": null,
            "grid_auto_flow": null,
            "grid_area": null,
            "grid_template_columns": null,
            "flex": null,
            "_model_name": "LayoutModel",
            "justify_items": null,
            "grid_row": null,
            "max_height": null,
            "align_content": null,
            "visibility": null,
            "align_self": null,
            "height": null,
            "min_height": null,
            "padding": null,
            "grid_auto_rows": null,
            "grid_gap": null,
            "max_width": null,
            "order": null,
            "_view_module_version": "1.2.0",
            "grid_template_areas": null,
            "object_position": null,
            "object_fit": null,
            "grid_auto_columns": null,
            "margin": null,
            "display": null,
            "left": null
          }
        },
        "304fe39a764542179756fa0454c344f3": {
          "model_module": "@jupyter-widgets/controls",
          "model_name": "HBoxModel",
          "model_module_version": "1.5.0",
          "state": {
            "_view_name": "HBoxView",
            "_dom_classes": [],
            "_model_name": "HBoxModel",
            "_view_module": "@jupyter-widgets/controls",
            "_model_module_version": "1.5.0",
            "_view_count": null,
            "_view_module_version": "1.5.0",
            "box_style": "",
            "layout": "IPY_MODEL_dc08909b907c4dc8ac96d0bf8de2f6a1",
            "_model_module": "@jupyter-widgets/controls",
            "children": [
              "IPY_MODEL_757c957d99214b9ba0c35299f83d5a0e",
              "IPY_MODEL_6a6896d8ae6a489d9567b9fde3812c3b",
              "IPY_MODEL_c2185acf96e6404994126445e44b84f5"
            ]
          }
        },
        "dc08909b907c4dc8ac96d0bf8de2f6a1": {
          "model_module": "@jupyter-widgets/base",
          "model_name": "LayoutModel",
          "model_module_version": "1.2.0",
          "state": {
            "_view_name": "LayoutView",
            "grid_template_rows": null,
            "right": null,
            "justify_content": null,
            "_view_module": "@jupyter-widgets/base",
            "overflow": null,
            "_model_module_version": "1.2.0",
            "_view_count": null,
            "flex_flow": null,
            "width": null,
            "min_width": null,
            "border": null,
            "align_items": null,
            "bottom": null,
            "_model_module": "@jupyter-widgets/base",
            "top": null,
            "grid_column": null,
            "overflow_y": null,
            "overflow_x": null,
            "grid_auto_flow": null,
            "grid_area": null,
            "grid_template_columns": null,
            "flex": null,
            "_model_name": "LayoutModel",
            "justify_items": null,
            "grid_row": null,
            "max_height": null,
            "align_content": null,
            "visibility": null,
            "align_self": null,
            "height": null,
            "min_height": null,
            "padding": null,
            "grid_auto_rows": null,
            "grid_gap": null,
            "max_width": null,
            "order": null,
            "_view_module_version": "1.2.0",
            "grid_template_areas": null,
            "object_position": null,
            "object_fit": null,
            "grid_auto_columns": null,
            "margin": null,
            "display": null,
            "left": null
          }
        },
        "757c957d99214b9ba0c35299f83d5a0e": {
          "model_module": "@jupyter-widgets/controls",
          "model_name": "HTMLModel",
          "model_module_version": "1.5.0",
          "state": {
            "_view_name": "HTMLView",
            "style": "IPY_MODEL_23c06181f1094434bdc3e9abb124e2c0",
            "_dom_classes": [],
            "description": "",
            "_model_name": "HTMLModel",
            "placeholder": "​",
            "_view_module": "@jupyter-widgets/controls",
            "_model_module_version": "1.5.0",
            "value": "",
            "_view_count": null,
            "_view_module_version": "1.5.0",
            "description_tooltip": null,
            "_model_module": "@jupyter-widgets/controls",
            "layout": "IPY_MODEL_f974f6fc8ba3453c84b39b066d43acd0"
          }
        },
        "6a6896d8ae6a489d9567b9fde3812c3b": {
          "model_module": "@jupyter-widgets/controls",
          "model_name": "FloatProgressModel",
          "model_module_version": "1.5.0",
          "state": {
            "_view_name": "ProgressView",
            "style": "IPY_MODEL_5f939462cf7643efbac22df3c336be48",
            "_dom_classes": [],
            "description": "",
            "_model_name": "FloatProgressModel",
            "bar_style": "success",
            "max": 29515,
            "_view_module": "@jupyter-widgets/controls",
            "_model_module_version": "1.5.0",
            "value": 29515,
            "_view_count": null,
            "_view_module_version": "1.5.0",
            "orientation": "horizontal",
            "min": 0,
            "description_tooltip": null,
            "_model_module": "@jupyter-widgets/controls",
            "layout": "IPY_MODEL_c27f31b32f24441796686627e5989b08"
          }
        },
        "c2185acf96e6404994126445e44b84f5": {
          "model_module": "@jupyter-widgets/controls",
          "model_name": "HTMLModel",
          "model_module_version": "1.5.0",
          "state": {
            "_view_name": "HTMLView",
            "style": "IPY_MODEL_07f7c81b467042728cab6caaf7ac6ec9",
            "_dom_classes": [],
            "description": "",
            "_model_name": "HTMLModel",
            "placeholder": "​",
            "_view_module": "@jupyter-widgets/controls",
            "_model_module_version": "1.5.0",
            "value": " 29696/? [00:00&lt;00:00, 337923.99it/s]",
            "_view_count": null,
            "_view_module_version": "1.5.0",
            "description_tooltip": null,
            "_model_module": "@jupyter-widgets/controls",
            "layout": "IPY_MODEL_bbdf29693fb2432da1e86eb64c29ff92"
          }
        },
        "23c06181f1094434bdc3e9abb124e2c0": {
          "model_module": "@jupyter-widgets/controls",
          "model_name": "DescriptionStyleModel",
          "model_module_version": "1.5.0",
          "state": {
            "_view_name": "StyleView",
            "_model_name": "DescriptionStyleModel",
            "description_width": "",
            "_view_module": "@jupyter-widgets/base",
            "_model_module_version": "1.5.0",
            "_view_count": null,
            "_view_module_version": "1.2.0",
            "_model_module": "@jupyter-widgets/controls"
          }
        },
        "f974f6fc8ba3453c84b39b066d43acd0": {
          "model_module": "@jupyter-widgets/base",
          "model_name": "LayoutModel",
          "model_module_version": "1.2.0",
          "state": {
            "_view_name": "LayoutView",
            "grid_template_rows": null,
            "right": null,
            "justify_content": null,
            "_view_module": "@jupyter-widgets/base",
            "overflow": null,
            "_model_module_version": "1.2.0",
            "_view_count": null,
            "flex_flow": null,
            "width": null,
            "min_width": null,
            "border": null,
            "align_items": null,
            "bottom": null,
            "_model_module": "@jupyter-widgets/base",
            "top": null,
            "grid_column": null,
            "overflow_y": null,
            "overflow_x": null,
            "grid_auto_flow": null,
            "grid_area": null,
            "grid_template_columns": null,
            "flex": null,
            "_model_name": "LayoutModel",
            "justify_items": null,
            "grid_row": null,
            "max_height": null,
            "align_content": null,
            "visibility": null,
            "align_self": null,
            "height": null,
            "min_height": null,
            "padding": null,
            "grid_auto_rows": null,
            "grid_gap": null,
            "max_width": null,
            "order": null,
            "_view_module_version": "1.2.0",
            "grid_template_areas": null,
            "object_position": null,
            "object_fit": null,
            "grid_auto_columns": null,
            "margin": null,
            "display": null,
            "left": null
          }
        },
        "5f939462cf7643efbac22df3c336be48": {
          "model_module": "@jupyter-widgets/controls",
          "model_name": "ProgressStyleModel",
          "model_module_version": "1.5.0",
          "state": {
            "_view_name": "StyleView",
            "_model_name": "ProgressStyleModel",
            "description_width": "",
            "_view_module": "@jupyter-widgets/base",
            "_model_module_version": "1.5.0",
            "_view_count": null,
            "_view_module_version": "1.2.0",
            "bar_color": null,
            "_model_module": "@jupyter-widgets/controls"
          }
        },
        "c27f31b32f24441796686627e5989b08": {
          "model_module": "@jupyter-widgets/base",
          "model_name": "LayoutModel",
          "model_module_version": "1.2.0",
          "state": {
            "_view_name": "LayoutView",
            "grid_template_rows": null,
            "right": null,
            "justify_content": null,
            "_view_module": "@jupyter-widgets/base",
            "overflow": null,
            "_model_module_version": "1.2.0",
            "_view_count": null,
            "flex_flow": null,
            "width": null,
            "min_width": null,
            "border": null,
            "align_items": null,
            "bottom": null,
            "_model_module": "@jupyter-widgets/base",
            "top": null,
            "grid_column": null,
            "overflow_y": null,
            "overflow_x": null,
            "grid_auto_flow": null,
            "grid_area": null,
            "grid_template_columns": null,
            "flex": null,
            "_model_name": "LayoutModel",
            "justify_items": null,
            "grid_row": null,
            "max_height": null,
            "align_content": null,
            "visibility": null,
            "align_self": null,
            "height": null,
            "min_height": null,
            "padding": null,
            "grid_auto_rows": null,
            "grid_gap": null,
            "max_width": null,
            "order": null,
            "_view_module_version": "1.2.0",
            "grid_template_areas": null,
            "object_position": null,
            "object_fit": null,
            "grid_auto_columns": null,
            "margin": null,
            "display": null,
            "left": null
          }
        },
        "07f7c81b467042728cab6caaf7ac6ec9": {
          "model_module": "@jupyter-widgets/controls",
          "model_name": "DescriptionStyleModel",
          "model_module_version": "1.5.0",
          "state": {
            "_view_name": "StyleView",
            "_model_name": "DescriptionStyleModel",
            "description_width": "",
            "_view_module": "@jupyter-widgets/base",
            "_model_module_version": "1.5.0",
            "_view_count": null,
            "_view_module_version": "1.2.0",
            "_model_module": "@jupyter-widgets/controls"
          }
        },
        "bbdf29693fb2432da1e86eb64c29ff92": {
          "model_module": "@jupyter-widgets/base",
          "model_name": "LayoutModel",
          "model_module_version": "1.2.0",
          "state": {
            "_view_name": "LayoutView",
            "grid_template_rows": null,
            "right": null,
            "justify_content": null,
            "_view_module": "@jupyter-widgets/base",
            "overflow": null,
            "_model_module_version": "1.2.0",
            "_view_count": null,
            "flex_flow": null,
            "width": null,
            "min_width": null,
            "border": null,
            "align_items": null,
            "bottom": null,
            "_model_module": "@jupyter-widgets/base",
            "top": null,
            "grid_column": null,
            "overflow_y": null,
            "overflow_x": null,
            "grid_auto_flow": null,
            "grid_area": null,
            "grid_template_columns": null,
            "flex": null,
            "_model_name": "LayoutModel",
            "justify_items": null,
            "grid_row": null,
            "max_height": null,
            "align_content": null,
            "visibility": null,
            "align_self": null,
            "height": null,
            "min_height": null,
            "padding": null,
            "grid_auto_rows": null,
            "grid_gap": null,
            "max_width": null,
            "order": null,
            "_view_module_version": "1.2.0",
            "grid_template_areas": null,
            "object_position": null,
            "object_fit": null,
            "grid_auto_columns": null,
            "margin": null,
            "display": null,
            "left": null
          }
        },
        "8aa05636913746d09fd7c266a5f07f74": {
          "model_module": "@jupyter-widgets/controls",
          "model_name": "HBoxModel",
          "model_module_version": "1.5.0",
          "state": {
            "_view_name": "HBoxView",
            "_dom_classes": [],
            "_model_name": "HBoxModel",
            "_view_module": "@jupyter-widgets/controls",
            "_model_module_version": "1.5.0",
            "_view_count": null,
            "_view_module_version": "1.5.0",
            "box_style": "",
            "layout": "IPY_MODEL_d776c156cdc2498daf66ab3aca0a5e14",
            "_model_module": "@jupyter-widgets/controls",
            "children": [
              "IPY_MODEL_9e9d4d7e5bb74b97a3d91f9cf95ade74",
              "IPY_MODEL_acd08d54f7184d90953031f8246cba93",
              "IPY_MODEL_e15843afa5fc4c67a1ab880878ccbd26"
            ]
          }
        },
        "d776c156cdc2498daf66ab3aca0a5e14": {
          "model_module": "@jupyter-widgets/base",
          "model_name": "LayoutModel",
          "model_module_version": "1.2.0",
          "state": {
            "_view_name": "LayoutView",
            "grid_template_rows": null,
            "right": null,
            "justify_content": null,
            "_view_module": "@jupyter-widgets/base",
            "overflow": null,
            "_model_module_version": "1.2.0",
            "_view_count": null,
            "flex_flow": null,
            "width": null,
            "min_width": null,
            "border": null,
            "align_items": null,
            "bottom": null,
            "_model_module": "@jupyter-widgets/base",
            "top": null,
            "grid_column": null,
            "overflow_y": null,
            "overflow_x": null,
            "grid_auto_flow": null,
            "grid_area": null,
            "grid_template_columns": null,
            "flex": null,
            "_model_name": "LayoutModel",
            "justify_items": null,
            "grid_row": null,
            "max_height": null,
            "align_content": null,
            "visibility": null,
            "align_self": null,
            "height": null,
            "min_height": null,
            "padding": null,
            "grid_auto_rows": null,
            "grid_gap": null,
            "max_width": null,
            "order": null,
            "_view_module_version": "1.2.0",
            "grid_template_areas": null,
            "object_position": null,
            "object_fit": null,
            "grid_auto_columns": null,
            "margin": null,
            "display": null,
            "left": null
          }
        },
        "9e9d4d7e5bb74b97a3d91f9cf95ade74": {
          "model_module": "@jupyter-widgets/controls",
          "model_name": "HTMLModel",
          "model_module_version": "1.5.0",
          "state": {
            "_view_name": "HTMLView",
            "style": "IPY_MODEL_58db70cdd76141f1ba4b2491a2ce56a2",
            "_dom_classes": [],
            "description": "",
            "_model_name": "HTMLModel",
            "placeholder": "​",
            "_view_module": "@jupyter-widgets/controls",
            "_model_module_version": "1.5.0",
            "value": "",
            "_view_count": null,
            "_view_module_version": "1.5.0",
            "description_tooltip": null,
            "_model_module": "@jupyter-widgets/controls",
            "layout": "IPY_MODEL_83c8ccdc5ba74f4fa44ee21ae5670d58"
          }
        },
        "acd08d54f7184d90953031f8246cba93": {
          "model_module": "@jupyter-widgets/controls",
          "model_name": "FloatProgressModel",
          "model_module_version": "1.5.0",
          "state": {
            "_view_name": "ProgressView",
            "style": "IPY_MODEL_2ba726d5e3f84abca9cae89d0582a567",
            "_dom_classes": [],
            "description": "",
            "_model_name": "FloatProgressModel",
            "bar_style": "success",
            "max": 4422102,
            "_view_module": "@jupyter-widgets/controls",
            "_model_module_version": "1.5.0",
            "value": 4422102,
            "_view_count": null,
            "_view_module_version": "1.5.0",
            "orientation": "horizontal",
            "min": 0,
            "description_tooltip": null,
            "_model_module": "@jupyter-widgets/controls",
            "layout": "IPY_MODEL_860ef19f33034bd3b0a14062a0d78974"
          }
        },
        "e15843afa5fc4c67a1ab880878ccbd26": {
          "model_module": "@jupyter-widgets/controls",
          "model_name": "HTMLModel",
          "model_module_version": "1.5.0",
          "state": {
            "_view_name": "HTMLView",
            "style": "IPY_MODEL_6cef60d8070b4c13b63cc37806643a80",
            "_dom_classes": [],
            "description": "",
            "_model_name": "HTMLModel",
            "placeholder": "​",
            "_view_module": "@jupyter-widgets/controls",
            "_model_module_version": "1.5.0",
            "value": " 4422656/? [00:00&lt;00:00, 6696394.05it/s]",
            "_view_count": null,
            "_view_module_version": "1.5.0",
            "description_tooltip": null,
            "_model_module": "@jupyter-widgets/controls",
            "layout": "IPY_MODEL_377d511b800844cbbc89bd23be13e056"
          }
        },
        "58db70cdd76141f1ba4b2491a2ce56a2": {
          "model_module": "@jupyter-widgets/controls",
          "model_name": "DescriptionStyleModel",
          "model_module_version": "1.5.0",
          "state": {
            "_view_name": "StyleView",
            "_model_name": "DescriptionStyleModel",
            "description_width": "",
            "_view_module": "@jupyter-widgets/base",
            "_model_module_version": "1.5.0",
            "_view_count": null,
            "_view_module_version": "1.2.0",
            "_model_module": "@jupyter-widgets/controls"
          }
        },
        "83c8ccdc5ba74f4fa44ee21ae5670d58": {
          "model_module": "@jupyter-widgets/base",
          "model_name": "LayoutModel",
          "model_module_version": "1.2.0",
          "state": {
            "_view_name": "LayoutView",
            "grid_template_rows": null,
            "right": null,
            "justify_content": null,
            "_view_module": "@jupyter-widgets/base",
            "overflow": null,
            "_model_module_version": "1.2.0",
            "_view_count": null,
            "flex_flow": null,
            "width": null,
            "min_width": null,
            "border": null,
            "align_items": null,
            "bottom": null,
            "_model_module": "@jupyter-widgets/base",
            "top": null,
            "grid_column": null,
            "overflow_y": null,
            "overflow_x": null,
            "grid_auto_flow": null,
            "grid_area": null,
            "grid_template_columns": null,
            "flex": null,
            "_model_name": "LayoutModel",
            "justify_items": null,
            "grid_row": null,
            "max_height": null,
            "align_content": null,
            "visibility": null,
            "align_self": null,
            "height": null,
            "min_height": null,
            "padding": null,
            "grid_auto_rows": null,
            "grid_gap": null,
            "max_width": null,
            "order": null,
            "_view_module_version": "1.2.0",
            "grid_template_areas": null,
            "object_position": null,
            "object_fit": null,
            "grid_auto_columns": null,
            "margin": null,
            "display": null,
            "left": null
          }
        },
        "2ba726d5e3f84abca9cae89d0582a567": {
          "model_module": "@jupyter-widgets/controls",
          "model_name": "ProgressStyleModel",
          "model_module_version": "1.5.0",
          "state": {
            "_view_name": "StyleView",
            "_model_name": "ProgressStyleModel",
            "description_width": "",
            "_view_module": "@jupyter-widgets/base",
            "_model_module_version": "1.5.0",
            "_view_count": null,
            "_view_module_version": "1.2.0",
            "bar_color": null,
            "_model_module": "@jupyter-widgets/controls"
          }
        },
        "860ef19f33034bd3b0a14062a0d78974": {
          "model_module": "@jupyter-widgets/base",
          "model_name": "LayoutModel",
          "model_module_version": "1.2.0",
          "state": {
            "_view_name": "LayoutView",
            "grid_template_rows": null,
            "right": null,
            "justify_content": null,
            "_view_module": "@jupyter-widgets/base",
            "overflow": null,
            "_model_module_version": "1.2.0",
            "_view_count": null,
            "flex_flow": null,
            "width": null,
            "min_width": null,
            "border": null,
            "align_items": null,
            "bottom": null,
            "_model_module": "@jupyter-widgets/base",
            "top": null,
            "grid_column": null,
            "overflow_y": null,
            "overflow_x": null,
            "grid_auto_flow": null,
            "grid_area": null,
            "grid_template_columns": null,
            "flex": null,
            "_model_name": "LayoutModel",
            "justify_items": null,
            "grid_row": null,
            "max_height": null,
            "align_content": null,
            "visibility": null,
            "align_self": null,
            "height": null,
            "min_height": null,
            "padding": null,
            "grid_auto_rows": null,
            "grid_gap": null,
            "max_width": null,
            "order": null,
            "_view_module_version": "1.2.0",
            "grid_template_areas": null,
            "object_position": null,
            "object_fit": null,
            "grid_auto_columns": null,
            "margin": null,
            "display": null,
            "left": null
          }
        },
        "6cef60d8070b4c13b63cc37806643a80": {
          "model_module": "@jupyter-widgets/controls",
          "model_name": "DescriptionStyleModel",
          "model_module_version": "1.5.0",
          "state": {
            "_view_name": "StyleView",
            "_model_name": "DescriptionStyleModel",
            "description_width": "",
            "_view_module": "@jupyter-widgets/base",
            "_model_module_version": "1.5.0",
            "_view_count": null,
            "_view_module_version": "1.2.0",
            "_model_module": "@jupyter-widgets/controls"
          }
        },
        "377d511b800844cbbc89bd23be13e056": {
          "model_module": "@jupyter-widgets/base",
          "model_name": "LayoutModel",
          "model_module_version": "1.2.0",
          "state": {
            "_view_name": "LayoutView",
            "grid_template_rows": null,
            "right": null,
            "justify_content": null,
            "_view_module": "@jupyter-widgets/base",
            "overflow": null,
            "_model_module_version": "1.2.0",
            "_view_count": null,
            "flex_flow": null,
            "width": null,
            "min_width": null,
            "border": null,
            "align_items": null,
            "bottom": null,
            "_model_module": "@jupyter-widgets/base",
            "top": null,
            "grid_column": null,
            "overflow_y": null,
            "overflow_x": null,
            "grid_auto_flow": null,
            "grid_area": null,
            "grid_template_columns": null,
            "flex": null,
            "_model_name": "LayoutModel",
            "justify_items": null,
            "grid_row": null,
            "max_height": null,
            "align_content": null,
            "visibility": null,
            "align_self": null,
            "height": null,
            "min_height": null,
            "padding": null,
            "grid_auto_rows": null,
            "grid_gap": null,
            "max_width": null,
            "order": null,
            "_view_module_version": "1.2.0",
            "grid_template_areas": null,
            "object_position": null,
            "object_fit": null,
            "grid_auto_columns": null,
            "margin": null,
            "display": null,
            "left": null
          }
        },
        "e03b79ac4306436490d87a26f9c6905e": {
          "model_module": "@jupyter-widgets/controls",
          "model_name": "HBoxModel",
          "model_module_version": "1.5.0",
          "state": {
            "_view_name": "HBoxView",
            "_dom_classes": [],
            "_model_name": "HBoxModel",
            "_view_module": "@jupyter-widgets/controls",
            "_model_module_version": "1.5.0",
            "_view_count": null,
            "_view_module_version": "1.5.0",
            "box_style": "",
            "layout": "IPY_MODEL_f8c416ff58ea4f30bcf7f180240ec31a",
            "_model_module": "@jupyter-widgets/controls",
            "children": [
              "IPY_MODEL_62fed184f1d74485a3296392f5f045e0",
              "IPY_MODEL_e589cc9149c442c9874703cdec719253",
              "IPY_MODEL_d66ec73f5dc24e07ae9b4b7a6cb44665"
            ]
          }
        },
        "f8c416ff58ea4f30bcf7f180240ec31a": {
          "model_module": "@jupyter-widgets/base",
          "model_name": "LayoutModel",
          "model_module_version": "1.2.0",
          "state": {
            "_view_name": "LayoutView",
            "grid_template_rows": null,
            "right": null,
            "justify_content": null,
            "_view_module": "@jupyter-widgets/base",
            "overflow": null,
            "_model_module_version": "1.2.0",
            "_view_count": null,
            "flex_flow": null,
            "width": null,
            "min_width": null,
            "border": null,
            "align_items": null,
            "bottom": null,
            "_model_module": "@jupyter-widgets/base",
            "top": null,
            "grid_column": null,
            "overflow_y": null,
            "overflow_x": null,
            "grid_auto_flow": null,
            "grid_area": null,
            "grid_template_columns": null,
            "flex": null,
            "_model_name": "LayoutModel",
            "justify_items": null,
            "grid_row": null,
            "max_height": null,
            "align_content": null,
            "visibility": null,
            "align_self": null,
            "height": null,
            "min_height": null,
            "padding": null,
            "grid_auto_rows": null,
            "grid_gap": null,
            "max_width": null,
            "order": null,
            "_view_module_version": "1.2.0",
            "grid_template_areas": null,
            "object_position": null,
            "object_fit": null,
            "grid_auto_columns": null,
            "margin": null,
            "display": null,
            "left": null
          }
        },
        "62fed184f1d74485a3296392f5f045e0": {
          "model_module": "@jupyter-widgets/controls",
          "model_name": "HTMLModel",
          "model_module_version": "1.5.0",
          "state": {
            "_view_name": "HTMLView",
            "style": "IPY_MODEL_4f9cedcc2c9c42bd8999fcc5bc84849e",
            "_dom_classes": [],
            "description": "",
            "_model_name": "HTMLModel",
            "placeholder": "​",
            "_view_module": "@jupyter-widgets/controls",
            "_model_module_version": "1.5.0",
            "value": "",
            "_view_count": null,
            "_view_module_version": "1.5.0",
            "description_tooltip": null,
            "_model_module": "@jupyter-widgets/controls",
            "layout": "IPY_MODEL_96aec0fc66f346ac84ab57f492bd4d28"
          }
        },
        "e589cc9149c442c9874703cdec719253": {
          "model_module": "@jupyter-widgets/controls",
          "model_name": "FloatProgressModel",
          "model_module_version": "1.5.0",
          "state": {
            "_view_name": "ProgressView",
            "style": "IPY_MODEL_cf68d2ac02c34150a76a6faada64a03a",
            "_dom_classes": [],
            "description": "",
            "_model_name": "FloatProgressModel",
            "bar_style": "success",
            "max": 5148,
            "_view_module": "@jupyter-widgets/controls",
            "_model_module_version": "1.5.0",
            "value": 5148,
            "_view_count": null,
            "_view_module_version": "1.5.0",
            "orientation": "horizontal",
            "min": 0,
            "description_tooltip": null,
            "_model_module": "@jupyter-widgets/controls",
            "layout": "IPY_MODEL_ec7903e239fa4076bbdff7973d65557a"
          }
        },
        "d66ec73f5dc24e07ae9b4b7a6cb44665": {
          "model_module": "@jupyter-widgets/controls",
          "model_name": "HTMLModel",
          "model_module_version": "1.5.0",
          "state": {
            "_view_name": "HTMLView",
            "style": "IPY_MODEL_2dae43bff7fc44a795febb8695e36841",
            "_dom_classes": [],
            "description": "",
            "_model_name": "HTMLModel",
            "placeholder": "​",
            "_view_module": "@jupyter-widgets/controls",
            "_model_module_version": "1.5.0",
            "value": " 6144/? [00:00&lt;00:00, 137187.99it/s]",
            "_view_count": null,
            "_view_module_version": "1.5.0",
            "description_tooltip": null,
            "_model_module": "@jupyter-widgets/controls",
            "layout": "IPY_MODEL_eaaf617baeec4cff982ca05af49eeccb"
          }
        },
        "4f9cedcc2c9c42bd8999fcc5bc84849e": {
          "model_module": "@jupyter-widgets/controls",
          "model_name": "DescriptionStyleModel",
          "model_module_version": "1.5.0",
          "state": {
            "_view_name": "StyleView",
            "_model_name": "DescriptionStyleModel",
            "description_width": "",
            "_view_module": "@jupyter-widgets/base",
            "_model_module_version": "1.5.0",
            "_view_count": null,
            "_view_module_version": "1.2.0",
            "_model_module": "@jupyter-widgets/controls"
          }
        },
        "96aec0fc66f346ac84ab57f492bd4d28": {
          "model_module": "@jupyter-widgets/base",
          "model_name": "LayoutModel",
          "model_module_version": "1.2.0",
          "state": {
            "_view_name": "LayoutView",
            "grid_template_rows": null,
            "right": null,
            "justify_content": null,
            "_view_module": "@jupyter-widgets/base",
            "overflow": null,
            "_model_module_version": "1.2.0",
            "_view_count": null,
            "flex_flow": null,
            "width": null,
            "min_width": null,
            "border": null,
            "align_items": null,
            "bottom": null,
            "_model_module": "@jupyter-widgets/base",
            "top": null,
            "grid_column": null,
            "overflow_y": null,
            "overflow_x": null,
            "grid_auto_flow": null,
            "grid_area": null,
            "grid_template_columns": null,
            "flex": null,
            "_model_name": "LayoutModel",
            "justify_items": null,
            "grid_row": null,
            "max_height": null,
            "align_content": null,
            "visibility": null,
            "align_self": null,
            "height": null,
            "min_height": null,
            "padding": null,
            "grid_auto_rows": null,
            "grid_gap": null,
            "max_width": null,
            "order": null,
            "_view_module_version": "1.2.0",
            "grid_template_areas": null,
            "object_position": null,
            "object_fit": null,
            "grid_auto_columns": null,
            "margin": null,
            "display": null,
            "left": null
          }
        },
        "cf68d2ac02c34150a76a6faada64a03a": {
          "model_module": "@jupyter-widgets/controls",
          "model_name": "ProgressStyleModel",
          "model_module_version": "1.5.0",
          "state": {
            "_view_name": "StyleView",
            "_model_name": "ProgressStyleModel",
            "description_width": "",
            "_view_module": "@jupyter-widgets/base",
            "_model_module_version": "1.5.0",
            "_view_count": null,
            "_view_module_version": "1.2.0",
            "bar_color": null,
            "_model_module": "@jupyter-widgets/controls"
          }
        },
        "ec7903e239fa4076bbdff7973d65557a": {
          "model_module": "@jupyter-widgets/base",
          "model_name": "LayoutModel",
          "model_module_version": "1.2.0",
          "state": {
            "_view_name": "LayoutView",
            "grid_template_rows": null,
            "right": null,
            "justify_content": null,
            "_view_module": "@jupyter-widgets/base",
            "overflow": null,
            "_model_module_version": "1.2.0",
            "_view_count": null,
            "flex_flow": null,
            "width": null,
            "min_width": null,
            "border": null,
            "align_items": null,
            "bottom": null,
            "_model_module": "@jupyter-widgets/base",
            "top": null,
            "grid_column": null,
            "overflow_y": null,
            "overflow_x": null,
            "grid_auto_flow": null,
            "grid_area": null,
            "grid_template_columns": null,
            "flex": null,
            "_model_name": "LayoutModel",
            "justify_items": null,
            "grid_row": null,
            "max_height": null,
            "align_content": null,
            "visibility": null,
            "align_self": null,
            "height": null,
            "min_height": null,
            "padding": null,
            "grid_auto_rows": null,
            "grid_gap": null,
            "max_width": null,
            "order": null,
            "_view_module_version": "1.2.0",
            "grid_template_areas": null,
            "object_position": null,
            "object_fit": null,
            "grid_auto_columns": null,
            "margin": null,
            "display": null,
            "left": null
          }
        },
        "2dae43bff7fc44a795febb8695e36841": {
          "model_module": "@jupyter-widgets/controls",
          "model_name": "DescriptionStyleModel",
          "model_module_version": "1.5.0",
          "state": {
            "_view_name": "StyleView",
            "_model_name": "DescriptionStyleModel",
            "description_width": "",
            "_view_module": "@jupyter-widgets/base",
            "_model_module_version": "1.5.0",
            "_view_count": null,
            "_view_module_version": "1.2.0",
            "_model_module": "@jupyter-widgets/controls"
          }
        },
        "eaaf617baeec4cff982ca05af49eeccb": {
          "model_module": "@jupyter-widgets/base",
          "model_name": "LayoutModel",
          "model_module_version": "1.2.0",
          "state": {
            "_view_name": "LayoutView",
            "grid_template_rows": null,
            "right": null,
            "justify_content": null,
            "_view_module": "@jupyter-widgets/base",
            "overflow": null,
            "_model_module_version": "1.2.0",
            "_view_count": null,
            "flex_flow": null,
            "width": null,
            "min_width": null,
            "border": null,
            "align_items": null,
            "bottom": null,
            "_model_module": "@jupyter-widgets/base",
            "top": null,
            "grid_column": null,
            "overflow_y": null,
            "overflow_x": null,
            "grid_auto_flow": null,
            "grid_area": null,
            "grid_template_columns": null,
            "flex": null,
            "_model_name": "LayoutModel",
            "justify_items": null,
            "grid_row": null,
            "max_height": null,
            "align_content": null,
            "visibility": null,
            "align_self": null,
            "height": null,
            "min_height": null,
            "padding": null,
            "grid_auto_rows": null,
            "grid_gap": null,
            "max_width": null,
            "order": null,
            "_view_module_version": "1.2.0",
            "grid_template_areas": null,
            "object_position": null,
            "object_fit": null,
            "grid_auto_columns": null,
            "margin": null,
            "display": null,
            "left": null
          }
        }
      }
    }
  },
  "cells": [
    {
      "cell_type": "markdown",
      "metadata": {
        "id": "view-in-github",
        "colab_type": "text"
      },
      "source": [
        "<a href=\"https://colab.research.google.com/github/jevais/qiskit_hackathon_kor_2022_team_daejeon_noisyqnn/blob/main/qnn_test1_noisymodel.ipynb\" target=\"_parent\"><img src=\"https://colab.research.google.com/assets/colab-badge.svg\" alt=\"Open In Colab\"/></a>"
      ]
    },
    {
      "cell_type": "code",
      "source": [
        "!pip install qiskit_machine_learning\n",
        "!pip install qiskit[visualization]"
      ],
      "metadata": {
        "id": "mnGVON4t9-RK"
      },
      "execution_count": null,
      "outputs": []
    },
    {
      "cell_type": "markdown",
      "source": [
        "# Fashion MINST classification with noisy qnn"
      ],
      "metadata": {
        "id": "h_Q0TpsdYzNB"
      }
    },
    {
      "cell_type": "markdown",
      "source": [
        "necessary imports: we will use qiskit torch connector."
      ],
      "metadata": {
        "id": "XUMFRJ91Y21X"
      }
    },
    {
      "cell_type": "code",
      "execution_count": 2,
      "metadata": {
        "id": "luWCrBxZy21b"
      },
      "outputs": [],
      "source": [
        "import numpy as np\n",
        "import pandas as pd\n",
        "import matplotlib.pyplot as plt\n",
        "\n",
        "import torch\n",
        "import torch.nn as nn\n",
        "from torch.autograd import Variable\n",
        "\n",
        "import torchvision\n",
        "from torchvision import datasets, transforms\n",
        "from torch.utils.data import Dataset, DataLoader\n",
        "from sklearn.metrics import confusion_matrix\n",
        "import torch.optim as optim\n",
        "import torch.nn.functional as F\n",
        "\n",
        "from torch import Tensor\n",
        "from torch.nn import Linear, CrossEntropyLoss, MSELoss, NLLLoss\n",
        "from torch.optim import LBFGS\n",
        "\n",
        "from torch.nn import (\n",
        "    Module,\n",
        "    Conv2d,\n",
        "    Linear,\n",
        "    Dropout2d,\n",
        "    NLLLoss,\n",
        "    MaxPool2d,\n",
        "    Flatten,\n",
        "    Sequential,\n",
        "    ReLU,\n",
        "    CrossEntropyLoss,\n",
        "    MSELoss\n",
        ")\n",
        "\n",
        "\n",
        "from qiskit import Aer, QuantumCircuit, IBMQ\n",
        "from qiskit.utils import QuantumInstance, algorithm_globals\n",
        "from qiskit.opflow import AerPauliExpectation, PauliExpectation\n",
        "from qiskit.circuit import Parameter\n",
        "from qiskit.circuit.library import RealAmplitudes, ZZFeatureMap\n",
        "from qiskit_machine_learning.neural_networks import CircuitQNN, TwoLayerQNN\n",
        "from qiskit_machine_learning.connectors import TorchConnector\n",
        "from qiskit.visualization import plot_histogram\n",
        "from qiskit.test.mock import FakeVigo\n",
        "from qiskit.providers.aer.noise import NoiseModel\n",
        "\n",
        "# Set seed for random generators\n",
        "algorithm_globals.random_seed = 42"
      ]
    },
    {
      "cell_type": "markdown",
      "source": [
        "Load personal qiskit account"
      ],
      "metadata": {
        "id": "qqsbXRrVZWc3"
      }
    },
    {
      "cell_type": "code",
      "source": [
        "# mingi IBMQ account\n",
        "\n",
        "IBMQ.save_account('e19e4ad4e9ed07b4987476bf3ff3e146834a78d5e063675ed311cec95e7f47fe69df1739bc0c84c7cb164b23cc54fb0a03a98e8f1876828b40c66d0d59e83d31', overwrite = True )\n",
        "provider = IBMQ.load_account()\n",
        "\n",
        "provider = IBMQ.get_provider(hub='ibm-q', group='open', project='main')\n",
        "qasm_sim = provider.backend.ibmq_qasm_simulator\n",
        "statevec_sim = provider.backend.simulator_statevector\n",
        "vigo = FakeVigo()\n",
        "\n",
        "\n",
        "seed = 20\n",
        "\n",
        "qi = QuantumInstance(Aer.get_backend(\"aer_simulator_statevector\"))  # local simulator for test\n",
        "\n",
        "# simulators in ibmq cloud service\n",
        "qasm_qi = QuantumInstance(qasm_sim, basis_gates=['cx', 'id', 'rz', 'sx', 'x'], seed_transpiler=seed, seed_simulator=seed)\n",
        "vec_qi = QuantumInstance(statevec_sim, basis_gates=['cx', 'id', 'rz', 'sx', 'x'], seed_transpiler=seed, seed_simulator=seed)\n",
        "noise_model = NoiseModel.from_backend(vigo)     # noisy model \n",
        "noisy_qi = QuantumInstance(Aer.get_backend(\"aer_simulator_statevector\"),  basis_gates=['cx', 'id', 'ry', 'p', 'x', 'h'] , noise_model= noise_model)  # noisy simulator for test"
      ],
      "metadata": {
        "id": "KZTVcgyxzKod"
      },
      "execution_count": 3,
      "outputs": []
    },
    {
      "cell_type": "code",
      "source": [
        "{('h', 1), ('save_expval', 2), ('ry', 1), ('cx', 2), ('p', 1)}"
      ],
      "metadata": {
        "id": "1FmavN5mqX8G"
      },
      "execution_count": null,
      "outputs": []
    },
    {
      "cell_type": "markdown",
      "source": [
        "# Load fashion MINST data for the training and the test"
      ],
      "metadata": {
        "id": "nvvp22ReZuzZ"
      }
    },
    {
      "cell_type": "code",
      "source": [
        "# Define a transform to normalize the data\n",
        "transform = transforms.Compose([transforms.ToTensor(),\n",
        "                                transforms.Normalize(( 0.5), ( 0.5))])\n",
        "\n",
        "# Download and load the training data\n",
        "trainset = datasets.FashionMNIST('./input/F_MNIST_data/', download=True, train=True, transform=transform)\n",
        "\n",
        "# Download and load the test data\n",
        "testset = datasets.FashionMNIST('./input/F_MNIST_data/', download=True, train=False, transform=transform)\n",
        "\n"
      ],
      "metadata": {
        "id": "zYX5TjBIzKzh",
        "colab": {
          "base_uri": "https://localhost:8080/",
          "height": 455,
          "referenced_widgets": [
            "34055f65f590404aad8641150571eb96",
            "0b6555d84b7b4f6bb421b91ce8602fbd",
            "015653858f5640b492a9a73580de145d",
            "fbbc9584a4df4fdabe7842ecde452a1b",
            "37621a69aa874eafbae68150a7299b27",
            "890c8f5156a54760b15c88e87e116a1a",
            "31f0ceac9530434286703415c7c8015d",
            "57b326755ad2497c9771e0452e5ddfd2",
            "021fc7456aa24e87b1ab9a302f4afcd2",
            "3e06b7b5afc14454a04cc71207667d73",
            "fac9d55b52084c87958d0956868cd7a9",
            "304fe39a764542179756fa0454c344f3",
            "dc08909b907c4dc8ac96d0bf8de2f6a1",
            "757c957d99214b9ba0c35299f83d5a0e",
            "6a6896d8ae6a489d9567b9fde3812c3b",
            "c2185acf96e6404994126445e44b84f5",
            "23c06181f1094434bdc3e9abb124e2c0",
            "f974f6fc8ba3453c84b39b066d43acd0",
            "5f939462cf7643efbac22df3c336be48",
            "c27f31b32f24441796686627e5989b08",
            "07f7c81b467042728cab6caaf7ac6ec9",
            "bbdf29693fb2432da1e86eb64c29ff92",
            "8aa05636913746d09fd7c266a5f07f74",
            "d776c156cdc2498daf66ab3aca0a5e14",
            "9e9d4d7e5bb74b97a3d91f9cf95ade74",
            "acd08d54f7184d90953031f8246cba93",
            "e15843afa5fc4c67a1ab880878ccbd26",
            "58db70cdd76141f1ba4b2491a2ce56a2",
            "83c8ccdc5ba74f4fa44ee21ae5670d58",
            "2ba726d5e3f84abca9cae89d0582a567",
            "860ef19f33034bd3b0a14062a0d78974",
            "6cef60d8070b4c13b63cc37806643a80",
            "377d511b800844cbbc89bd23be13e056",
            "e03b79ac4306436490d87a26f9c6905e",
            "f8c416ff58ea4f30bcf7f180240ec31a",
            "62fed184f1d74485a3296392f5f045e0",
            "e589cc9149c442c9874703cdec719253",
            "d66ec73f5dc24e07ae9b4b7a6cb44665",
            "4f9cedcc2c9c42bd8999fcc5bc84849e",
            "96aec0fc66f346ac84ab57f492bd4d28",
            "cf68d2ac02c34150a76a6faada64a03a",
            "ec7903e239fa4076bbdff7973d65557a",
            "2dae43bff7fc44a795febb8695e36841",
            "eaaf617baeec4cff982ca05af49eeccb"
          ]
        },
        "outputId": "28e681ca-c712-4d34-c0e7-9589b79ee27f"
      },
      "execution_count": 4,
      "outputs": [
        {
          "output_type": "stream",
          "name": "stdout",
          "text": [
            "Downloading http://fashion-mnist.s3-website.eu-central-1.amazonaws.com/train-images-idx3-ubyte.gz\n",
            "Downloading http://fashion-mnist.s3-website.eu-central-1.amazonaws.com/train-images-idx3-ubyte.gz to ./input/F_MNIST_data/FashionMNIST/raw/train-images-idx3-ubyte.gz\n"
          ]
        },
        {
          "output_type": "display_data",
          "data": {
            "application/vnd.jupyter.widget-view+json": {
              "model_id": "34055f65f590404aad8641150571eb96",
              "version_minor": 0,
              "version_major": 2
            },
            "text/plain": [
              "  0%|          | 0/26421880 [00:00<?, ?it/s]"
            ]
          },
          "metadata": {}
        },
        {
          "output_type": "stream",
          "name": "stdout",
          "text": [
            "Extracting ./input/F_MNIST_data/FashionMNIST/raw/train-images-idx3-ubyte.gz to ./input/F_MNIST_data/FashionMNIST/raw\n",
            "\n",
            "Downloading http://fashion-mnist.s3-website.eu-central-1.amazonaws.com/train-labels-idx1-ubyte.gz\n",
            "Downloading http://fashion-mnist.s3-website.eu-central-1.amazonaws.com/train-labels-idx1-ubyte.gz to ./input/F_MNIST_data/FashionMNIST/raw/train-labels-idx1-ubyte.gz\n"
          ]
        },
        {
          "output_type": "display_data",
          "data": {
            "application/vnd.jupyter.widget-view+json": {
              "model_id": "304fe39a764542179756fa0454c344f3",
              "version_minor": 0,
              "version_major": 2
            },
            "text/plain": [
              "  0%|          | 0/29515 [00:00<?, ?it/s]"
            ]
          },
          "metadata": {}
        },
        {
          "output_type": "stream",
          "name": "stdout",
          "text": [
            "Extracting ./input/F_MNIST_data/FashionMNIST/raw/train-labels-idx1-ubyte.gz to ./input/F_MNIST_data/FashionMNIST/raw\n",
            "\n",
            "Downloading http://fashion-mnist.s3-website.eu-central-1.amazonaws.com/t10k-images-idx3-ubyte.gz\n",
            "Downloading http://fashion-mnist.s3-website.eu-central-1.amazonaws.com/t10k-images-idx3-ubyte.gz to ./input/F_MNIST_data/FashionMNIST/raw/t10k-images-idx3-ubyte.gz\n"
          ]
        },
        {
          "output_type": "display_data",
          "data": {
            "application/vnd.jupyter.widget-view+json": {
              "model_id": "8aa05636913746d09fd7c266a5f07f74",
              "version_minor": 0,
              "version_major": 2
            },
            "text/plain": [
              "  0%|          | 0/4422102 [00:00<?, ?it/s]"
            ]
          },
          "metadata": {}
        },
        {
          "output_type": "stream",
          "name": "stdout",
          "text": [
            "Extracting ./input/F_MNIST_data/FashionMNIST/raw/t10k-images-idx3-ubyte.gz to ./input/F_MNIST_data/FashionMNIST/raw\n",
            "\n",
            "Downloading http://fashion-mnist.s3-website.eu-central-1.amazonaws.com/t10k-labels-idx1-ubyte.gz\n",
            "Downloading http://fashion-mnist.s3-website.eu-central-1.amazonaws.com/t10k-labels-idx1-ubyte.gz to ./input/F_MNIST_data/FashionMNIST/raw/t10k-labels-idx1-ubyte.gz\n"
          ]
        },
        {
          "output_type": "display_data",
          "data": {
            "application/vnd.jupyter.widget-view+json": {
              "model_id": "e03b79ac4306436490d87a26f9c6905e",
              "version_minor": 0,
              "version_major": 2
            },
            "text/plain": [
              "  0%|          | 0/5148 [00:00<?, ?it/s]"
            ]
          },
          "metadata": {}
        },
        {
          "output_type": "stream",
          "name": "stdout",
          "text": [
            "Extracting ./input/F_MNIST_data/FashionMNIST/raw/t10k-labels-idx1-ubyte.gz to ./input/F_MNIST_data/FashionMNIST/raw\n",
            "\n"
          ]
        }
      ]
    },
    {
      "cell_type": "markdown",
      "source": [
        ""
      ],
      "metadata": {
        "id": "knpDoFP_Z4m_"
      }
    },
    {
      "cell_type": "code",
      "source": [
        "class Sampler_for_MNIST(torch.utils.data.sampler.Sampler):\n",
        "    def __init__(self, mask, data_source):\n",
        "        self.mask = mask\n",
        "        self.data_source = data_source\n",
        "\n",
        "    def __iter__(self):\n",
        "        return iter([i.item() for i in torch.nonzero(self.mask)])\n",
        "\n",
        "    def __len__(self):\n",
        "        return len(self.data_source)\n",
        "\n",
        "#mask_train = (trainset.train_labels == 0) | (trainset.train_labels == 1).int()\n",
        "mask_train = [1 if (trainset[i][1] == 0) | (trainset[i][1] == 1) else 0 for i in range(len(trainset))]\n",
        "mask_train = torch.tensor(mask_train)\n",
        "\n",
        "#mask_test = (testset.test_labels == 0) | (testset.test_labels == 1).int()\n",
        "mask_test = [1 if (testset[i][1] == 0) | (testset[i][1] == 1) else 0 for i in range(len(testset))]\n",
        "mask_test = torch.tensor(mask_test)\n",
        "\n",
        "sampler_train = Sampler_for_MNIST(mask_train,trainset)\n",
        "sampler_test = Sampler_for_MNIST(mask_test,testset)\n"
      ],
      "metadata": {
        "id": "Vc0LbLs8zK9N"
      },
      "execution_count": 19,
      "outputs": []
    },
    {
      "cell_type": "code",
      "source": [
        "batch_size0 = 16\n",
        "train_loader = torch.utils.data.DataLoader(trainset, batch_size=batch_size0, sampler=sampler_train, shuffle=False)\n",
        "test_loader = torch.utils.data.DataLoader(testset, batch_size=batch_size0, sampler=sampler_test, shuffle=False)"
      ],
      "metadata": {
        "id": "jTk1NwufzK_y"
      },
      "execution_count": 20,
      "outputs": []
    },
    {
      "cell_type": "code",
      "source": [
        "def imshow(image, ax=None, title=None, normalize=True):\n",
        "    \"\"\"Imshow for Tensor.\"\"\"\n",
        "    if ax is None:\n",
        "        fig, ax = plt.subplots()\n",
        "    image = image.numpy().transpose((1, 2, 0))\n",
        "\n",
        "    if normalize:\n",
        "        mean = np.array([0.485, 0.456, 0.406])\n",
        "        std = np.array([0.229, 0.224, 0.225])\n",
        "        image = std * image + mean\n",
        "        image = np.clip(image, 0, 1)\n",
        "\n",
        "    ax.imshow(image)\n",
        "    ax.spines['top'].set_visible(False)\n",
        "    ax.spines['right'].set_visible(False)\n",
        "    ax.spines['left'].set_visible(False)\n",
        "    ax.spines['bottom'].set_visible(False)\n",
        "    ax.tick_params(axis='both', length=0)\n",
        "    ax.set_xticklabels('')\n",
        "    ax.set_yticklabels('')\n",
        "\n",
        "    return ax"
      ],
      "metadata": {
        "id": "0FzQiOoizLC9"
      },
      "execution_count": 7,
      "outputs": []
    },
    {
      "cell_type": "code",
      "source": [
        "# Define QNN\n",
        "feature_map = ZZFeatureMap(2)\n",
        "ansatz = RealAmplitudes(2, reps=1)\n",
        "# REMEMBER TO SET input_gradients=True FOR ENABLING HYBRID GRADIENT BACKPROP\n",
        "qnn4 = TwoLayerQNN(\n",
        "    2, feature_map, ansatz, input_gradients=True, exp_val=AerPauliExpectation(), quantum_instance=qi   ### 로컬 시뮬레이터가 아닌 실제 IBM 디바이스에 서킷 넣을 땐 oplow.PauliExpectation 을 넣자\n",
        ")\n",
        "\n",
        "qnn4_noisy = TwoLayerQNN(\n",
        "    2, feature_map, ansatz, input_gradients=True, exp_val=PauliExpectation(), quantum_instance=noisy_qi   ### noisy qnn\n",
        ")\n",
        "\n",
        "print(qnn4_noisy.operator)"
      ],
      "metadata": {
        "colab": {
          "base_uri": "https://localhost:8080/"
        },
        "id": "TeV54s_HmM1v",
        "outputId": "e495689f-2f93-4b82-9687-f245c71b494d"
      },
      "execution_count": 12,
      "outputs": [
        {
          "output_type": "stream",
          "name": "stdout",
          "text": [
            "ComposedOp([\n",
            "  OperatorMeasurement(1.0 * ZZ),\n",
            "  CircuitStateFn(\n",
            "       ┌──────────────────────────┐┌──────────────────────────────────────┐\n",
            "  q_0: ┤0                         ├┤0                                     ├\n",
            "       │  ZZFeatureMap(x[0],x[1]) ││  RealAmplitudes(θ[0],θ[1],θ[2],θ[3]) │\n",
            "  q_1: ┤1                         ├┤1                                     ├\n",
            "       └──────────────────────────┘└──────────────────────────────────────┘\n",
            "  )\n",
            "])\n"
          ]
        }
      ]
    },
    {
      "cell_type": "code",
      "source": [
        "class Classifier(nn.Module):\n",
        "    def __init__(self):\n",
        "        super().__init__()\n",
        "        self.conv1 = nn.Conv2d(1, 2, kernel_size=5)\n",
        "        self.conv2 = nn.Conv2d(2, 16, kernel_size=5)\n",
        "        self.dropout = nn.Dropout2d()\n",
        "        self.fc1 = nn.Linear(256, 64)\n",
        "        self.fc2 = nn.Linear(64, 2)  # 2-dimensional input to QNN\n",
        "        self.qnn = TorchConnector(qnn4)  # Apply torch connector, weights chosen\n",
        "        self.fc3 = nn.Linear(1, 1)  # 1-dimensional output from QNN\n",
        "        self.sigmoid = nn.Sigmoid()\n",
        "\n",
        "    def forward(self, x):\n",
        "        x = F.relu(self.conv1(x))\n",
        "        x = F.max_pool2d(x, 2)\n",
        "        x = F.relu(self.conv2(x))\n",
        "        x = F.max_pool2d(x, 2)\n",
        "        x = self.dropout(x)\n",
        "        x = x.view(x.shape[0], -1)\n",
        "        x = F.relu(self.fc1(x))\n",
        "        x = self.fc2(x)\n",
        "        x = self.qnn(x)  # apply QNN\n",
        "        x = self.fc3(x)\n",
        "        x = self.sigmoid(x)\n",
        "        \n",
        "        return x.view(-1)\n",
        "    \n",
        "model = Classifier()    "
      ],
      "metadata": {
        "id": "ctx750BJzLH3"
      },
      "execution_count": 21,
      "outputs": []
    },
    {
      "cell_type": "code",
      "source": [
        "epochs = 5\n",
        "steps = 0\n",
        "Ntrain_data = 10;\n",
        "Ntest_data = 20;"
      ],
      "metadata": {
        "id": "HlkK_-3jzLKD"
      },
      "execution_count": 22,
      "outputs": []
    },
    {
      "cell_type": "code",
      "source": [
        "criterion = nn.MSELoss()\n",
        "#criterion = nn.NLLLoss()\n",
        "def lr_model(x):\n",
        "  return np.exp(-x)\n",
        "\n",
        "optimizer = optim.Adam(model.parameters(), lr=0.005)\n",
        "\n",
        "\n",
        "train_losses, test_losses = [], []\n",
        "for e in range(epochs):\n",
        "    running_loss = 0\n",
        "    j = 0\n",
        "    for i, (images, labels) in enumerate(train_loader):        \n",
        "        \n",
        "        if  j < Ntrain_data:\n",
        "            \n",
        "            optimizer.zero_grad()\n",
        "\n",
        "            output = model(images).float()\n",
        "            loss = criterion(output, labels.float())\n",
        "            loss.backward()\n",
        "            optimizer.step()\n",
        "            #print('calculation .... ')\n",
        "\n",
        "            running_loss += loss.item()\n",
        "            j=j+1\n",
        "\n",
        "    else:\n",
        "        test_loss = 0\n",
        "        accuracy = 0\n",
        "\n",
        "        with torch.no_grad():\n",
        "            j=0\n",
        "            accuracy=0\n",
        "            for i, (images, labels) in enumerate(test_loader):\n",
        "                \n",
        "                #print('now test...')\n",
        "                if  j < Ntest_data:\n",
        "                    output = model(images).float()\n",
        "                    test_loss += criterion(output, labels.float())\n",
        "                    \n",
        "                    refine_output = torch.round(output)\n",
        "                    \n",
        "                    accuracy=accuracy+torch.sum(refine_output-labels==0)\n",
        "                                     \n",
        "                    j=j+1\n",
        "\n",
        "        train_losses.append(running_loss/Ntrain_data)\n",
        "        test_losses.append(test_loss/Ntest_data)\n",
        "\n",
        "        print(\"Epoch: {}/{}.. \".format(e+1, epochs),\n",
        "              \"Training Loss: {:.3f}.. \".format(running_loss/Ntrain_data),\n",
        "              \"Test Loss: {:.3f}.. \".format(test_loss/Ntest_data),\n",
        "              \"Test Accuracy: {:.3f}\".format(accuracy/(Ntest_data*batch_size0)))"
      ],
      "metadata": {
        "id": "iMjfZPKHzLMT",
        "colab": {
          "base_uri": "https://localhost:8080/"
        },
        "outputId": "45d3d8ea-f48f-41d7-a404-4e3f9fe22213"
      },
      "execution_count": 23,
      "outputs": [
        {
          "output_type": "stream",
          "name": "stdout",
          "text": [
            "Epoch: 1/5..  Training Loss: 0.222..  Test Loss: 0.200..  Test Accuracy: 0.500\n",
            "Epoch: 2/5..  Training Loss: 0.179..  Test Loss: 0.177..  Test Accuracy: 0.659\n",
            "Epoch: 3/5..  Training Loss: 0.169..  Test Loss: 0.167..  Test Accuracy: 0.716\n",
            "Epoch: 4/5..  Training Loss: 0.152..  Test Loss: 0.145..  Test Accuracy: 0.894\n",
            "Epoch: 5/5..  Training Loss: 0.143..  Test Loss: 0.132..  Test Accuracy: 0.928\n"
          ]
        }
      ]
    },
    {
      "cell_type": "code",
      "source": [
        "epochs = 10\n",
        "steps = 0\n",
        "Ntrain_data = 10;\n",
        "Ntest_data = 20;\n",
        "\n",
        "criterion = nn.MSELoss()\n",
        "#criterion = nn.NLLLoss()\n",
        "def lr_model(x):\n",
        "  return np.exp(-x)\n",
        "\n",
        "optimizer = optim.Adam(model.parameters(), lr=0.005)\n",
        "\n",
        "\n",
        "train_losses_v2, test_losses_v2 = [], []\n",
        "for e in range(epochs):\n",
        "    running_loss = 0\n",
        "    j = 0\n",
        "    for i, (images, labels) in enumerate(train_loader):        \n",
        "        \n",
        "        if  j < Ntrain_data:\n",
        "            \n",
        "            optimizer.zero_grad()\n",
        "\n",
        "            output = model(images).float()\n",
        "            loss = criterion(output, labels.float())\n",
        "            loss.backward()\n",
        "            optimizer.step()\n",
        "            #print('calculation .... ')\n",
        "\n",
        "            running_loss += loss.item()\n",
        "            j=j+1\n",
        "\n",
        "    else:\n",
        "        test_loss = 0\n",
        "        accuracy = 0\n",
        "\n",
        "        with torch.no_grad():\n",
        "            j=0\n",
        "            accuracy=0\n",
        "            for i, (images, labels) in enumerate(test_loader):\n",
        "                \n",
        "                #print('now test...')\n",
        "                if  j < Ntest_data:\n",
        "                    output = model(images).float()\n",
        "                    test_loss += criterion(output, labels.float())\n",
        "                    \n",
        "                    refine_output = torch.round(output)\n",
        "                    \n",
        "                    accuracy=accuracy+torch.sum(refine_output-labels==0)\n",
        "                                     \n",
        "                    j=j+1\n",
        "\n",
        "        train_losses_v2.append(running_loss/Ntrain_data)\n",
        "        test_losses_v2.append(test_loss/Ntest_data)\n",
        "\n",
        "        print(\"Epoch: {}/{}.. \".format(e+1, epochs),\n",
        "              \"Training Loss: {:.3f}.. \".format(running_loss/Ntrain_data),\n",
        "              \"Test Loss: {:.3f}.. \".format(test_loss/Ntest_data),\n",
        "              \"Test Accuracy: {:.3f}\".format(accuracy/(Ntest_data*batch_size0)))"
      ],
      "metadata": {
        "id": "V-5r0Tfi5JsZ"
      },
      "execution_count": null,
      "outputs": []
    },
    {
      "cell_type": "code",
      "source": [
        "class noisyClassifier(nn.Module):\n",
        "    def __init__(self):\n",
        "        super().__init__()\n",
        "        self.conv1 = nn.Conv2d(1, 2, kernel_size=5)\n",
        "        self.conv2 = nn.Conv2d(2, 16, kernel_size=5)\n",
        "        self.dropout = nn.Dropout2d()\n",
        "        self.fc1 = nn.Linear(256, 64)\n",
        "        self.fc2 = nn.Linear(64, 2)  # 2-dimensional input to QNN\n",
        "        self.qnn = TorchConnector(qnn4_noisy)  # Apply torch connector, weights chosen\n",
        "        self.fc3 = nn.Linear(1, 1)  # 1-dimensional output from QNN\n",
        "        self.sigmoid = nn.Sigmoid()\n",
        "\n",
        "    def forward(self, x):\n",
        "        x = F.relu(self.conv1(x))\n",
        "        x = F.max_pool2d(x, 2)\n",
        "        x = F.relu(self.conv2(x))\n",
        "        x = F.max_pool2d(x, 2)\n",
        "        x = self.dropout(x)\n",
        "        x = x.view(x.shape[0], -1)\n",
        "        x = F.relu(self.fc1(x))\n",
        "        x = self.fc2(x)\n",
        "        x = self.qnn(x)  # apply noisy QNN\n",
        "        x = self.fc3(x)\n",
        "        x = self.sigmoid(x)\n",
        "        \n",
        "        return x.view(-1)\n",
        "    \n",
        "model_noisy = noisyClassifier()    "
      ],
      "metadata": {
        "id": "mFc5l-AUdJBC"
      },
      "execution_count": 13,
      "outputs": []
    },
    {
      "cell_type": "code",
      "source": [
        "epochs = 5\n",
        "steps = 0\n",
        "Ntrain_data = 10;\n",
        "Ntest_data = 20;"
      ],
      "metadata": {
        "id": "5dTWp3q4tz1X"
      },
      "execution_count": 14,
      "outputs": []
    },
    {
      "cell_type": "code",
      "source": [
        "criterion = nn.MSELoss()\n",
        "#criterion = nn.NLLLoss()\n",
        "optimizer = optim.Adam(model_noisy.parameters(), lr=0.005)\n",
        "\n",
        "\n",
        "train_losses_noisy, test_losses_noisy = [], []\n",
        "for e in range(epochs):\n",
        "    running_loss = 0\n",
        "    j = 0\n",
        "    for i, (images, labels) in enumerate(train_loader):        \n",
        "        \n",
        "        if  j < Ntrain_data:\n",
        "            \n",
        "            optimizer.zero_grad()\n",
        "\n",
        "            output = model_noisy(images).float()\n",
        "            loss = criterion(output, labels.float())\n",
        "            loss.backward()\n",
        "            optimizer.step()\n",
        "            #print('calculation .... ')\n",
        "\n",
        "            running_loss += loss.item()\n",
        "            j=j+1\n",
        "\n",
        "    else:\n",
        "        test_loss = 0\n",
        "        accuracy = 0\n",
        "\n",
        "        with torch.no_grad():\n",
        "            j=0\n",
        "            accuracy=0\n",
        "            for i, (images, labels) in enumerate(test_loader):\n",
        "                \n",
        "                if  j < Ntest_data:\n",
        "                    output = model_noisy(images).float()\n",
        "                    test_loss += criterion(output, labels.float())\n",
        "                    \n",
        "                    refine_output = torch.round(output)\n",
        "                    \n",
        "                    accuracy=accuracy+torch.sum(refine_output-labels==0)\n",
        "                                     \n",
        "                    j=j+1\n",
        "\n",
        "        train_losses_noisy.append(running_loss/Ntrain_data)\n",
        "        test_losses_noisy.append(test_loss/Ntest_data)\n",
        "\n",
        "        print(\"Epoch: {}/{}.. \".format(e+1, epochs),\n",
        "              \"Training Loss: {:.3f}.. \".format(running_loss/Ntrain_data),\n",
        "              \"Test Loss: {:.3f}.. \".format(test_loss/Ntest_data),\n",
        "              \"Test Accuracy: {:.3f}\".format(accuracy/(Ntest_data*batch_size0)))"
      ],
      "metadata": {
        "id": "PvFBlPrnxkPl",
        "colab": {
          "base_uri": "https://localhost:8080/"
        },
        "outputId": "5b69cf62-688b-4947-acbc-65f99cc373ca"
      },
      "execution_count": 15,
      "outputs": [
        {
          "output_type": "stream",
          "name": "stdout",
          "text": [
            "Epoch: 1/5..  Training Loss: 0.258..  Test Loss: 0.249..  Test Accuracy: 0.500\n",
            "Epoch: 2/5..  Training Loss: 0.246..  Test Loss: 0.231..  Test Accuracy: 0.500\n",
            "Epoch: 3/5..  Training Loss: 0.229..  Test Loss: 0.217..  Test Accuracy: 0.503\n",
            "Epoch: 4/5..  Training Loss: 0.214..  Test Loss: 0.205..  Test Accuracy: 0.719\n",
            "Epoch: 5/5..  Training Loss: 0.207..  Test Loss: 0.225..  Test Accuracy: 0.678\n"
          ]
        }
      ]
    },
    {
      "cell_type": "markdown",
      "source": [
        "noisy model calculation costs plenty of time"
      ],
      "metadata": {
        "id": "cX6lfDjMw4vD"
      }
    },
    {
      "cell_type": "markdown",
      "source": [
        "increase the # of epochs"
      ],
      "metadata": {
        "id": "0tQx34__3uNX"
      }
    },
    {
      "cell_type": "code",
      "source": [
        "epochs = 10\n",
        "steps = 0\n",
        "Ntrain_data = 10;\n",
        "Ntest_data = 20;\n",
        "\n",
        "criterion = nn.MSELoss()\n",
        "#criterion = nn.NLLLoss()\n",
        "optimizer = optim.Adam(model_noisy.parameters(), lr=0.005)\n",
        "\n",
        "\n",
        "train_losses_noisy_v2, test_losses_noisy_v2 = [], []\n",
        "for e in range(epochs):\n",
        "    running_loss = 0\n",
        "    j = 0\n",
        "    for i, (images, labels) in enumerate(train_loader):        \n",
        "        \n",
        "        if  j < Ntrain_data:\n",
        "            \n",
        "            optimizer.zero_grad()\n",
        "\n",
        "            output = model_noisy(images).float()\n",
        "            loss = criterion(output, labels.float())\n",
        "            loss.backward()\n",
        "            optimizer.step()\n",
        "            #print('calculation .... ')\n",
        "\n",
        "            running_loss += loss.item()\n",
        "            j=j+1\n",
        "\n",
        "    else:\n",
        "        test_loss = 0\n",
        "        accuracy = 0\n",
        "\n",
        "        with torch.no_grad():\n",
        "            j=0\n",
        "            accuracy=0\n",
        "            for i, (images, labels) in enumerate(test_loader):\n",
        "                \n",
        "                if  j < Ntest_data:\n",
        "                    output = model_noisy(images).float()\n",
        "                    test_loss += criterion(output, labels.float())\n",
        "                    \n",
        "                    refine_output = torch.round(output)\n",
        "                    \n",
        "                    accuracy=accuracy+torch.sum(refine_output-labels==0)\n",
        "                                     \n",
        "                    j=j+1\n",
        "\n",
        "        train_losses_noisy_v2.append(running_loss/Ntrain_data)\n",
        "        test_losses_noisy_v2.append(test_loss/Ntest_data)\n",
        "\n",
        "        print(\"Epoch: {}/{}.. \".format(e+1, epochs),\n",
        "              \"Training Loss: {:.3f}.. \".format(running_loss/Ntrain_data),\n",
        "              \"Test Loss: {:.3f}.. \".format(test_loss/Ntest_data),\n",
        "              \"Test Accuracy: {:.3f}\".format(accuracy/(Ntest_data*batch_size0)))"
      ],
      "metadata": {
        "colab": {
          "base_uri": "https://localhost:8080/"
        },
        "id": "yBEGWdbQ3jEv",
        "outputId": "4c6fdf93-b1ca-4e7f-d7be-e1ed8cca08d8"
      },
      "execution_count": 27,
      "outputs": [
        {
          "output_type": "stream",
          "name": "stdout",
          "text": [
            "Epoch: 1/10..  Training Loss: 0.219..  Test Loss: 0.212..  Test Accuracy: 0.709\n",
            "Epoch: 2/10..  Training Loss: 0.207..  Test Loss: 0.189..  Test Accuracy: 0.866\n",
            "Epoch: 3/10..  Training Loss: 0.186..  Test Loss: 0.192..  Test Accuracy: 0.809\n",
            "Epoch: 4/10..  Training Loss: 0.188..  Test Loss: 0.182..  Test Accuracy: 0.819\n",
            "Epoch: 5/10..  Training Loss: 0.159..  Test Loss: 0.151..  Test Accuracy: 0.909\n",
            "Epoch: 6/10..  Training Loss: 0.153..  Test Loss: 0.147..  Test Accuracy: 0.891\n",
            "Epoch: 7/10..  Training Loss: 0.138..  Test Loss: 0.148..  Test Accuracy: 0.872\n",
            "Epoch: 8/10..  Training Loss: 0.135..  Test Loss: 0.155..  Test Accuracy: 0.841\n",
            "Epoch: 9/10..  Training Loss: 0.156..  Test Loss: 0.192..  Test Accuracy: 0.706\n",
            "Epoch: 10/10..  Training Loss: 0.174..  Test Loss: 0.161..  Test Accuracy: 0.784\n"
          ]
        }
      ]
    },
    {
      "cell_type": "markdown",
      "source": [
        "총 42분 정도 걸림"
      ],
      "metadata": {
        "id": "ZbIuBkG3BUeB"
      }
    },
    {
      "cell_type": "code",
      "source": [
        "# result \n",
        "ii=7\n",
        "\n",
        "sample_list=np.where(testset.test_labels==0)  \n",
        "image=testset[sample_list[0][ii]][0]\n",
        "label=testset[sample_list[0][ii]][1]\n",
        "output = model(image.view(-1,1,28,28))\n",
        "imshow(image);\n",
        "print('ground truth: {}'.format(label))\n",
        "print('prediction  : {}'.format(torch.round(output)))"
      ],
      "metadata": {
        "id": "X6vU2NBRzilN",
        "colab": {
          "base_uri": "https://localhost:8080/",
          "height": 321
        },
        "outputId": "33535566-7fd2-46ff-8f1e-df29acd384fe"
      },
      "execution_count": null,
      "outputs": [
        {
          "output_type": "stream",
          "name": "stderr",
          "text": [
            "/usr/local/lib/python3.7/dist-packages/torchvision/datasets/mnist.py:57: UserWarning: test_labels has been renamed targets\n",
            "  warnings.warn(\"test_labels has been renamed targets\")\n"
          ]
        },
        {
          "output_type": "stream",
          "name": "stdout",
          "text": [
            "ground truth: 0\n",
            "prediction  : tensor([0.], grad_fn=<RoundBackward0>)\n"
          ]
        },
        {
          "output_type": "display_data",
          "data": {
            "image/png": "[encoded data removed]",
            "text/plain": [
              "<Figure size 432x288 with 1 Axes>"
            ]
          },
          "metadata": {
            "needs_background": "light"
          }
        }
      ]
    },
    {
      "cell_type": "code",
      "source": [
        ""
      ],
      "metadata": {
        "id": "OVRjg4MPzinm"
      },
      "execution_count": null,
      "outputs": []
    },
    {
      "cell_type": "code",
      "source": [
        "%matplotlib inline\n",
        "%config InlineBackend.figure_format='retina'\n",
        "\n",
        "import matplotlib.pyplot as plt\n",
        "\n",
        "plt.plot(train_losses_noisy, label='training loss (noisy qnn)')\n",
        "plt.plot(test_losses_noisy, label='Validation loss (noisy qnn)')\n",
        "plt.plot(train_losses, label='training loss (qnn)')\n",
        "plt.plot(test_losses, label='Validation loss (qnn)')\n",
        "plt.legend(frameon=False)"
      ],
      "metadata": {
        "id": "SiBWXevCziqk",
        "colab": {
          "base_uri": "https://localhost:8080/",
          "height": 283
        },
        "outputId": "fef6d8c6-fcd9-4ce4-def9-f0242187e24c"
      },
      "execution_count": 26,
      "outputs": [
        {
          "output_type": "execute_result",
          "data": {
            "text/plain": [
              "<matplotlib.legend.Legend at 0x7ff4219244d0>"
            ]
          },
          "metadata": {},
          "execution_count": 26
        },
        {
          "output_type": "display_data",
          "data": {
            "image/png": "[encoded data removed]",
            "text/plain": [
              "<Figure size 432x288 with 1 Axes>"
            ]
          },
          "metadata": {
            "image/png": {
              "width": 378,
              "height": 248
            },
            "needs_background": "light"
          }
        }
      ]
    },
    {
      "cell_type": "code",
      "source": [
        "print(\"train_losses_noisy_v2: \",train_losses_noisy_v2)"
      ],
      "metadata": {
        "id": "mx130r-0zivc",
        "colab": {
          "base_uri": "https://localhost:8080/"
        },
        "outputId": "f73ac79d-56f0-4a65-ea60-ca96503100eb"
      },
      "execution_count": 29,
      "outputs": [
        {
          "output_type": "stream",
          "name": "stdout",
          "text": [
            "train_losses_noisy_v2:  [0.21861379742622375, 0.2065853074193001, 0.18576730266213418, 0.18809784203767776, 0.1586604446172714, 0.15332135781645775, 0.13778375685214997, 0.13517746850848197, 0.1557055190205574, 0.17446458786726]\n"
          ]
        }
      ]
    },
    {
      "cell_type": "code",
      "source": [
        "print(\"test_losses_noisy_v2: \",test_losses_noisy_v2)"
      ],
      "metadata": {
        "id": "b3-Zkfg3zixy",
        "colab": {
          "base_uri": "https://localhost:8080/"
        },
        "outputId": "a439365e-98dc-4d17-a767-0c60c8a7bfd2"
      },
      "execution_count": 30,
      "outputs": [
        {
          "output_type": "stream",
          "name": "stdout",
          "text": [
            "test_losses_noisy_v2:  [tensor(0.2123), tensor(0.1886), tensor(0.1915), tensor(0.1818), tensor(0.1509), tensor(0.1468), tensor(0.1479), tensor(0.1547), tensor(0.1916), tensor(0.1605)]\n"
          ]
        }
      ]
    },
    {
      "cell_type": "markdown",
      "source": [
        "`Epoch: 1/5..  Training Loss: 0.233..  Test Loss: 0.189..  Accuracy: 0.825` \\\\\n",
        "`Epoch: 2/5..  Training Loss: 0.207..  Test Loss: 0.216..  Accuracy: 0.775` \\\\\n",
        "`Epoch: 3/5..  Training Loss: 0.171..  Test Loss: 0.151..  Accuracy: 0.863` \\\\\n",
        "`Epoch: 4/5..  Training Loss: 0.126..  Test Loss: 0.099..  Accuracy: 0.962` \\\\\n",
        "`Epoch: 5/5..  Training Loss: 0.098..  Test Loss: 0.060..  Accuracy: 0.975` \\\\"
      ],
      "metadata": {
        "id": "hRtrE3cJCuMC"
      }
    },
    {
      "cell_type": "code",
      "source": [
        "train_losses_v2 = np.array([0.233, 0.207, 0.171, 0.126, 0.098])\n",
        "test_losses_v2 = np.array([0.189, 0.216, 0.151, 0.099, 0.060])"
      ],
      "metadata": {
        "id": "jVjdRJonBv5J"
      },
      "execution_count": 32,
      "outputs": []
    },
    {
      "cell_type": "code",
      "source": [
        "%matplotlib inline\n",
        "%config InlineBackend.figure_format='retina'\n",
        "\n",
        "\n",
        "plt.plot(train_losses_noisy_v2, label='training loss (noisy qnn)')\n",
        "plt.plot(test_losses_noisy_v2, label='Validation loss (noisy qnn)')\n",
        "plt.plot(train_losses_v2, label='training loss (qnn)')\n",
        "plt.plot(test_losses_v2, label='Validation loss (qnn)')\n",
        "plt.xlim(0,4)\n",
        "plt.xlabel('epoch')\n",
        "plt.legend(frameon=False)"
      ],
      "metadata": {
        "id": "_BuE3GPuzis4",
        "colab": {
          "base_uri": "https://localhost:8080/",
          "height": 296
        },
        "outputId": "d87e3155-8723-4502-e7dd-f299292615a8"
      },
      "execution_count": 34,
      "outputs": [
        {
          "output_type": "execute_result",
          "data": {
            "text/plain": [
              "<matplotlib.legend.Legend at 0x7ff41da799d0>"
            ]
          },
          "metadata": {},
          "execution_count": 34
        },
        {
          "output_type": "display_data",
          "data": {
            "image/png": "[encoded data removed]",
            "text/plain": [
              "<Figure size 432x288 with 1 Axes>"
            ]
          },
          "metadata": {
            "image/png": {
              "width": 392,
              "height": 261
            },
            "needs_background": "light"
          }
        }
      ]
    },
    {
      "cell_type": "code",
      "source": [
        "%matplotlib inline\n",
        "%config InlineBackend.figure_format='retina'\n",
        "\n",
        "\n",
        "plt.plot(train_losses_noisy_v2, label='training loss (noisy qnn)')\n",
        "plt.plot(test_losses_noisy_v2, label='Validation loss (noisy qnn)')\n",
        "plt.plot(train_losses_v2, label='training loss (qnn)')\n",
        "plt.plot(test_losses_v2, label='Validation loss (qnn)')\n",
        "plt.xlim(0,9)\n",
        "plt.xlabel('epoch')\n",
        "plt.legend(frameon=False)"
      ],
      "metadata": {
        "colab": {
          "base_uri": "https://localhost:8080/",
          "height": 296
        },
        "id": "KoTsN3bSCC2B",
        "outputId": "40eaa9a4-3c8e-469c-b453-a6e28eb47694"
      },
      "execution_count": 35,
      "outputs": [
        {
          "output_type": "execute_result",
          "data": {
            "text/plain": [
              "<matplotlib.legend.Legend at 0x7ff41d59af90>"
            ]
          },
          "metadata": {},
          "execution_count": 35
        },
        {
          "output_type": "display_data",
          "data": {
            "image/png": "[encoded data removed]",
            "text/plain": [
              "<Figure size 432x288 with 1 Axes>"
            ]
          },
          "metadata": {
            "image/png": {
              "width": 388,
              "height": 261
            },
            "needs_background": "light"
          }
        }
      ]
    },
    {
      "cell_type": "code",
      "source": [
        ""
      ],
      "metadata": {
        "id": "QLB4p8ZiCiQt"
      },
      "execution_count": null,
      "outputs": []
    }
  ]
}